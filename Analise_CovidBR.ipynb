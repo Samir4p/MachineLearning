{
 "cells": [
  {
   "cell_type": "code",
   "execution_count": 1,
   "metadata": {
    "executionInfo": {
     "elapsed": 685,
     "status": "ok",
     "timestamp": 1620000291745,
     "user": {
      "displayName": "StarT 4P",
      "photoUrl": "https://lh3.googleusercontent.com/a-/AOh14Gi7zDwFrlfhBrY3YZ7CyuBy8xywSM-3VfNJc3WF=s64",
      "userId": "14279619290692044850"
     },
     "user_tz": 180
    },
    "id": "XUT--My4dpu_"
   },
   "outputs": [],
   "source": [
    "# Importando as bibliotecas\n",
    "import pandas as pd\n",
    "import numpy as np"
   ]
  },
  {
   "cell_type": "code",
   "execution_count": 2,
   "metadata": {
    "id": "YbhTFbwjdpvG",
    "outputId": "655ed1c0-418b-43c4-e073-7056b28a30dc"
   },
   "outputs": [
    {
     "data": {
      "text/plain": [
       "'https://brasil.io/home/'"
      ]
     },
     "execution_count": 2,
     "metadata": {},
     "output_type": "execute_result"
    }
   ],
   "source": [
    "\"https://brasil.io/home/\""
   ]
  },
  {
   "cell_type": "code",
   "execution_count": 3,
   "metadata": {
    "colab": {
     "base_uri": "https://localhost:8080/",
     "height": 387
    },
    "executionInfo": {
     "elapsed": 677,
     "status": "error",
     "timestamp": 1620000566738,
     "user": {
      "displayName": "StarT 4P",
      "photoUrl": "https://lh3.googleusercontent.com/a-/AOh14Gi7zDwFrlfhBrY3YZ7CyuBy8xywSM-3VfNJc3WF=s64",
      "userId": "14279619290692044850"
     },
     "user_tz": 180
    },
    "id": "jBSkvkbZdpvI",
    "outputId": "bc4c8e9c-eba0-48b6-ba9b-25ddcf7ee9e5"
   },
   "outputs": [
    {
     "data": {
      "text/html": [
       "<div>\n",
       "<style scoped>\n",
       "    .dataframe tbody tr th:only-of-type {\n",
       "        vertical-align: middle;\n",
       "    }\n",
       "\n",
       "    .dataframe tbody tr th {\n",
       "        vertical-align: top;\n",
       "    }\n",
       "\n",
       "    .dataframe thead th {\n",
       "        text-align: right;\n",
       "    }\n",
       "</style>\n",
       "<table border=\"1\" class=\"dataframe\">\n",
       "  <thead>\n",
       "    <tr style=\"text-align: right;\">\n",
       "      <th></th>\n",
       "      <th>date</th>\n",
       "      <th>state</th>\n",
       "      <th>city</th>\n",
       "      <th>place_type</th>\n",
       "      <th>confirmed</th>\n",
       "      <th>deaths</th>\n",
       "      <th>order_for_place</th>\n",
       "      <th>is_last</th>\n",
       "      <th>estimated_population_2019</th>\n",
       "      <th>estimated_population</th>\n",
       "      <th>city_ibge_code</th>\n",
       "      <th>confirmed_per_100k_inhabitants</th>\n",
       "      <th>death_rate</th>\n",
       "    </tr>\n",
       "  </thead>\n",
       "  <tbody>\n",
       "    <tr>\n",
       "      <th>0</th>\n",
       "      <td>2022-03-27</td>\n",
       "      <td>AP</td>\n",
       "      <td>NaN</td>\n",
       "      <td>state</td>\n",
       "      <td>160328</td>\n",
       "      <td>2122</td>\n",
       "      <td>734</td>\n",
       "      <td>True</td>\n",
       "      <td>845731.0</td>\n",
       "      <td>861773.0</td>\n",
       "      <td>16.0</td>\n",
       "      <td>18604.43527</td>\n",
       "      <td>0.0132</td>\n",
       "    </tr>\n",
       "    <tr>\n",
       "      <th>1</th>\n",
       "      <td>2022-03-26</td>\n",
       "      <td>AP</td>\n",
       "      <td>NaN</td>\n",
       "      <td>state</td>\n",
       "      <td>160321</td>\n",
       "      <td>2122</td>\n",
       "      <td>733</td>\n",
       "      <td>False</td>\n",
       "      <td>845731.0</td>\n",
       "      <td>861773.0</td>\n",
       "      <td>16.0</td>\n",
       "      <td>18603.62300</td>\n",
       "      <td>0.0132</td>\n",
       "    </tr>\n",
       "    <tr>\n",
       "      <th>2</th>\n",
       "      <td>2022-03-25</td>\n",
       "      <td>AP</td>\n",
       "      <td>NaN</td>\n",
       "      <td>state</td>\n",
       "      <td>160314</td>\n",
       "      <td>2122</td>\n",
       "      <td>732</td>\n",
       "      <td>False</td>\n",
       "      <td>845731.0</td>\n",
       "      <td>861773.0</td>\n",
       "      <td>16.0</td>\n",
       "      <td>18602.81072</td>\n",
       "      <td>0.0132</td>\n",
       "    </tr>\n",
       "    <tr>\n",
       "      <th>3</th>\n",
       "      <td>2022-03-24</td>\n",
       "      <td>AP</td>\n",
       "      <td>NaN</td>\n",
       "      <td>state</td>\n",
       "      <td>160301</td>\n",
       "      <td>2122</td>\n",
       "      <td>731</td>\n",
       "      <td>False</td>\n",
       "      <td>845731.0</td>\n",
       "      <td>861773.0</td>\n",
       "      <td>16.0</td>\n",
       "      <td>18601.30220</td>\n",
       "      <td>0.0132</td>\n",
       "    </tr>\n",
       "    <tr>\n",
       "      <th>4</th>\n",
       "      <td>2022-03-23</td>\n",
       "      <td>AP</td>\n",
       "      <td>NaN</td>\n",
       "      <td>state</td>\n",
       "      <td>160288</td>\n",
       "      <td>2122</td>\n",
       "      <td>730</td>\n",
       "      <td>False</td>\n",
       "      <td>845731.0</td>\n",
       "      <td>861773.0</td>\n",
       "      <td>16.0</td>\n",
       "      <td>18599.79368</td>\n",
       "      <td>0.0132</td>\n",
       "    </tr>\n",
       "  </tbody>\n",
       "</table>\n",
       "</div>"
      ],
      "text/plain": [
       "         date state city place_type  confirmed  deaths  order_for_place  \\\n",
       "0  2022-03-27    AP  NaN      state     160328    2122              734   \n",
       "1  2022-03-26    AP  NaN      state     160321    2122              733   \n",
       "2  2022-03-25    AP  NaN      state     160314    2122              732   \n",
       "3  2022-03-24    AP  NaN      state     160301    2122              731   \n",
       "4  2022-03-23    AP  NaN      state     160288    2122              730   \n",
       "\n",
       "   is_last  estimated_population_2019  estimated_population  city_ibge_code  \\\n",
       "0     True                   845731.0              861773.0            16.0   \n",
       "1    False                   845731.0              861773.0            16.0   \n",
       "2    False                   845731.0              861773.0            16.0   \n",
       "3    False                   845731.0              861773.0            16.0   \n",
       "4    False                   845731.0              861773.0            16.0   \n",
       "\n",
       "   confirmed_per_100k_inhabitants  death_rate  \n",
       "0                     18604.43527      0.0132  \n",
       "1                     18603.62300      0.0132  \n",
       "2                     18602.81072      0.0132  \n",
       "3                     18601.30220      0.0132  \n",
       "4                     18599.79368      0.0132  "
      ]
     },
     "execution_count": 3,
     "metadata": {},
     "output_type": "execute_result"
    }
   ],
   "source": [
    "df = pd.read_csv('caso2023.csv')\n",
    "df.head()\n"
   ]
  },
  {
   "cell_type": "markdown",
   "metadata": {
    "id": "GepxC3a9jyV3"
   },
   "source": [
    "# Nova seção"
   ]
  },
  {
   "cell_type": "code",
   "execution_count": 4,
   "metadata": {
    "id": "sAhOoX36dpvK",
    "outputId": "ad44ebe4-136d-48a5-ec19-fdbe8317a66f"
   },
   "outputs": [
    {
     "data": {
      "text/html": [
       "<div>\n",
       "<style scoped>\n",
       "    .dataframe tbody tr th:only-of-type {\n",
       "        vertical-align: middle;\n",
       "    }\n",
       "\n",
       "    .dataframe tbody tr th {\n",
       "        vertical-align: top;\n",
       "    }\n",
       "\n",
       "    .dataframe thead th {\n",
       "        text-align: right;\n",
       "    }\n",
       "</style>\n",
       "<table border=\"1\" class=\"dataframe\">\n",
       "  <thead>\n",
       "    <tr style=\"text-align: right;\">\n",
       "      <th></th>\n",
       "      <th>date</th>\n",
       "      <th>state</th>\n",
       "      <th>city</th>\n",
       "      <th>place_type</th>\n",
       "      <th>confirmed</th>\n",
       "      <th>deaths</th>\n",
       "      <th>order_for_place</th>\n",
       "      <th>is_last</th>\n",
       "      <th>estimated_population_2019</th>\n",
       "      <th>estimated_population</th>\n",
       "      <th>city_ibge_code</th>\n",
       "      <th>confirmed_per_100k_inhabitants</th>\n",
       "      <th>death_rate</th>\n",
       "    </tr>\n",
       "  </thead>\n",
       "  <tbody>\n",
       "    <tr>\n",
       "      <th>0</th>\n",
       "      <td>2022-03-27</td>\n",
       "      <td>AP</td>\n",
       "      <td>NaN</td>\n",
       "      <td>state</td>\n",
       "      <td>160328</td>\n",
       "      <td>2122</td>\n",
       "      <td>734</td>\n",
       "      <td>True</td>\n",
       "      <td>845731.0</td>\n",
       "      <td>861773.0</td>\n",
       "      <td>16.0</td>\n",
       "      <td>18604.43527</td>\n",
       "      <td>0.0132</td>\n",
       "    </tr>\n",
       "    <tr>\n",
       "      <th>1</th>\n",
       "      <td>2022-03-26</td>\n",
       "      <td>AP</td>\n",
       "      <td>NaN</td>\n",
       "      <td>state</td>\n",
       "      <td>160321</td>\n",
       "      <td>2122</td>\n",
       "      <td>733</td>\n",
       "      <td>False</td>\n",
       "      <td>845731.0</td>\n",
       "      <td>861773.0</td>\n",
       "      <td>16.0</td>\n",
       "      <td>18603.62300</td>\n",
       "      <td>0.0132</td>\n",
       "    </tr>\n",
       "    <tr>\n",
       "      <th>2</th>\n",
       "      <td>2022-03-25</td>\n",
       "      <td>AP</td>\n",
       "      <td>NaN</td>\n",
       "      <td>state</td>\n",
       "      <td>160314</td>\n",
       "      <td>2122</td>\n",
       "      <td>732</td>\n",
       "      <td>False</td>\n",
       "      <td>845731.0</td>\n",
       "      <td>861773.0</td>\n",
       "      <td>16.0</td>\n",
       "      <td>18602.81072</td>\n",
       "      <td>0.0132</td>\n",
       "    </tr>\n",
       "    <tr>\n",
       "      <th>3</th>\n",
       "      <td>2022-03-24</td>\n",
       "      <td>AP</td>\n",
       "      <td>NaN</td>\n",
       "      <td>state</td>\n",
       "      <td>160301</td>\n",
       "      <td>2122</td>\n",
       "      <td>731</td>\n",
       "      <td>False</td>\n",
       "      <td>845731.0</td>\n",
       "      <td>861773.0</td>\n",
       "      <td>16.0</td>\n",
       "      <td>18601.30220</td>\n",
       "      <td>0.0132</td>\n",
       "    </tr>\n",
       "    <tr>\n",
       "      <th>4</th>\n",
       "      <td>2022-03-23</td>\n",
       "      <td>AP</td>\n",
       "      <td>NaN</td>\n",
       "      <td>state</td>\n",
       "      <td>160288</td>\n",
       "      <td>2122</td>\n",
       "      <td>730</td>\n",
       "      <td>False</td>\n",
       "      <td>845731.0</td>\n",
       "      <td>861773.0</td>\n",
       "      <td>16.0</td>\n",
       "      <td>18599.79368</td>\n",
       "      <td>0.0132</td>\n",
       "    </tr>\n",
       "    <tr>\n",
       "      <th>5</th>\n",
       "      <td>2022-03-22</td>\n",
       "      <td>AP</td>\n",
       "      <td>NaN</td>\n",
       "      <td>state</td>\n",
       "      <td>160275</td>\n",
       "      <td>2122</td>\n",
       "      <td>729</td>\n",
       "      <td>False</td>\n",
       "      <td>845731.0</td>\n",
       "      <td>861773.0</td>\n",
       "      <td>16.0</td>\n",
       "      <td>18598.28516</td>\n",
       "      <td>0.0132</td>\n",
       "    </tr>\n",
       "    <tr>\n",
       "      <th>6</th>\n",
       "      <td>2022-03-21</td>\n",
       "      <td>AP</td>\n",
       "      <td>NaN</td>\n",
       "      <td>state</td>\n",
       "      <td>160265</td>\n",
       "      <td>2120</td>\n",
       "      <td>728</td>\n",
       "      <td>False</td>\n",
       "      <td>845731.0</td>\n",
       "      <td>861773.0</td>\n",
       "      <td>16.0</td>\n",
       "      <td>18597.12476</td>\n",
       "      <td>0.0132</td>\n",
       "    </tr>\n",
       "    <tr>\n",
       "      <th>7</th>\n",
       "      <td>2022-03-20</td>\n",
       "      <td>AP</td>\n",
       "      <td>NaN</td>\n",
       "      <td>state</td>\n",
       "      <td>160260</td>\n",
       "      <td>2120</td>\n",
       "      <td>727</td>\n",
       "      <td>False</td>\n",
       "      <td>845731.0</td>\n",
       "      <td>861773.0</td>\n",
       "      <td>16.0</td>\n",
       "      <td>18596.54457</td>\n",
       "      <td>0.0132</td>\n",
       "    </tr>\n",
       "    <tr>\n",
       "      <th>8</th>\n",
       "      <td>2022-03-19</td>\n",
       "      <td>AP</td>\n",
       "      <td>NaN</td>\n",
       "      <td>state</td>\n",
       "      <td>160258</td>\n",
       "      <td>2120</td>\n",
       "      <td>726</td>\n",
       "      <td>False</td>\n",
       "      <td>845731.0</td>\n",
       "      <td>861773.0</td>\n",
       "      <td>16.0</td>\n",
       "      <td>18596.31249</td>\n",
       "      <td>0.0132</td>\n",
       "    </tr>\n",
       "    <tr>\n",
       "      <th>9</th>\n",
       "      <td>2022-03-18</td>\n",
       "      <td>AP</td>\n",
       "      <td>NaN</td>\n",
       "      <td>state</td>\n",
       "      <td>160255</td>\n",
       "      <td>2120</td>\n",
       "      <td>725</td>\n",
       "      <td>False</td>\n",
       "      <td>845731.0</td>\n",
       "      <td>861773.0</td>\n",
       "      <td>16.0</td>\n",
       "      <td>18595.96437</td>\n",
       "      <td>0.0132</td>\n",
       "    </tr>\n",
       "  </tbody>\n",
       "</table>\n",
       "</div>"
      ],
      "text/plain": [
       "         date state city place_type  confirmed  deaths  order_for_place  \\\n",
       "0  2022-03-27    AP  NaN      state     160328    2122              734   \n",
       "1  2022-03-26    AP  NaN      state     160321    2122              733   \n",
       "2  2022-03-25    AP  NaN      state     160314    2122              732   \n",
       "3  2022-03-24    AP  NaN      state     160301    2122              731   \n",
       "4  2022-03-23    AP  NaN      state     160288    2122              730   \n",
       "5  2022-03-22    AP  NaN      state     160275    2122              729   \n",
       "6  2022-03-21    AP  NaN      state     160265    2120              728   \n",
       "7  2022-03-20    AP  NaN      state     160260    2120              727   \n",
       "8  2022-03-19    AP  NaN      state     160258    2120              726   \n",
       "9  2022-03-18    AP  NaN      state     160255    2120              725   \n",
       "\n",
       "   is_last  estimated_population_2019  estimated_population  city_ibge_code  \\\n",
       "0     True                   845731.0              861773.0            16.0   \n",
       "1    False                   845731.0              861773.0            16.0   \n",
       "2    False                   845731.0              861773.0            16.0   \n",
       "3    False                   845731.0              861773.0            16.0   \n",
       "4    False                   845731.0              861773.0            16.0   \n",
       "5    False                   845731.0              861773.0            16.0   \n",
       "6    False                   845731.0              861773.0            16.0   \n",
       "7    False                   845731.0              861773.0            16.0   \n",
       "8    False                   845731.0              861773.0            16.0   \n",
       "9    False                   845731.0              861773.0            16.0   \n",
       "\n",
       "   confirmed_per_100k_inhabitants  death_rate  \n",
       "0                     18604.43527      0.0132  \n",
       "1                     18603.62300      0.0132  \n",
       "2                     18602.81072      0.0132  \n",
       "3                     18601.30220      0.0132  \n",
       "4                     18599.79368      0.0132  \n",
       "5                     18598.28516      0.0132  \n",
       "6                     18597.12476      0.0132  \n",
       "7                     18596.54457      0.0132  \n",
       "8                     18596.31249      0.0132  \n",
       "9                     18595.96437      0.0132  "
      ]
     },
     "execution_count": 4,
     "metadata": {},
     "output_type": "execute_result"
    }
   ],
   "source": [
    "# Usando a função (LOC) de localização podemos acessar qualquer dado dentro do df passando aparametros\n",
    "# Criamos outro df com nome ESTADOS para armezenar os dados\n",
    "estados = df.loc[df.place_type=='state', :]\n",
    "estados.head(10)"
   ]
  },
  {
   "cell_type": "code",
   "execution_count": 5,
   "metadata": {
    "id": "Rvy-NfZrdpvK",
    "outputId": "540eb516-bd75-45a9-e946-b4ee22fa8b8b"
   },
   "outputs": [
    {
     "data": {
      "text/plain": [
       "27"
      ]
     },
     "execution_count": 5,
     "metadata": {},
     "output_type": "execute_result"
    }
   ],
   "source": [
    "# Buscando os valores unicos do df estados\n",
    "len(estados.state.unique())"
   ]
  },
  {
   "cell_type": "code",
   "execution_count": 6,
   "metadata": {
    "id": "Tf-z-v2jdpvL",
    "outputId": "fb9c36bb-2439-40a6-9cc0-88bad5ce1f34"
   },
   "outputs": [
    {
     "data": {
      "text/html": [
       "<div>\n",
       "<style scoped>\n",
       "    .dataframe tbody tr th:only-of-type {\n",
       "        vertical-align: middle;\n",
       "    }\n",
       "\n",
       "    .dataframe tbody tr th {\n",
       "        vertical-align: top;\n",
       "    }\n",
       "\n",
       "    .dataframe thead th {\n",
       "        text-align: right;\n",
       "    }\n",
       "</style>\n",
       "<table border=\"1\" class=\"dataframe\">\n",
       "  <thead>\n",
       "    <tr style=\"text-align: right;\">\n",
       "      <th></th>\n",
       "      <th>date</th>\n",
       "      <th>state</th>\n",
       "      <th>confirmed</th>\n",
       "      <th>deaths</th>\n",
       "      <th>is_last</th>\n",
       "    </tr>\n",
       "  </thead>\n",
       "  <tbody>\n",
       "    <tr>\n",
       "      <th>0</th>\n",
       "      <td>2022-03-27</td>\n",
       "      <td>AP</td>\n",
       "      <td>160328</td>\n",
       "      <td>2122</td>\n",
       "      <td>True</td>\n",
       "    </tr>\n",
       "    <tr>\n",
       "      <th>1</th>\n",
       "      <td>2022-03-26</td>\n",
       "      <td>AP</td>\n",
       "      <td>160321</td>\n",
       "      <td>2122</td>\n",
       "      <td>False</td>\n",
       "    </tr>\n",
       "    <tr>\n",
       "      <th>2</th>\n",
       "      <td>2022-03-25</td>\n",
       "      <td>AP</td>\n",
       "      <td>160314</td>\n",
       "      <td>2122</td>\n",
       "      <td>False</td>\n",
       "    </tr>\n",
       "    <tr>\n",
       "      <th>3</th>\n",
       "      <td>2022-03-24</td>\n",
       "      <td>AP</td>\n",
       "      <td>160301</td>\n",
       "      <td>2122</td>\n",
       "      <td>False</td>\n",
       "    </tr>\n",
       "    <tr>\n",
       "      <th>4</th>\n",
       "      <td>2022-03-23</td>\n",
       "      <td>AP</td>\n",
       "      <td>160288</td>\n",
       "      <td>2122</td>\n",
       "      <td>False</td>\n",
       "    </tr>\n",
       "  </tbody>\n",
       "</table>\n",
       "</div>"
      ],
      "text/plain": [
       "         date state  confirmed  deaths  is_last\n",
       "0  2022-03-27    AP     160328    2122     True\n",
       "1  2022-03-26    AP     160321    2122    False\n",
       "2  2022-03-25    AP     160314    2122    False\n",
       "3  2022-03-24    AP     160301    2122    False\n",
       "4  2022-03-23    AP     160288    2122    False"
      ]
     },
     "execution_count": 6,
     "metadata": {},
     "output_type": "execute_result"
    }
   ],
   "source": [
    "# Vamos comparar por estados \n",
    "data = estados[['date', 'state', 'confirmed', 'deaths', 'is_last']]\n",
    "data.head()"
   ]
  },
  {
   "cell_type": "code",
   "execution_count": 7,
   "metadata": {
    "id": "88L-onyxdpvM"
   },
   "outputs": [],
   "source": [
    "#Criando um dataframe\n",
    "covid = pd.DataFrame()"
   ]
  },
  {
   "cell_type": "code",
   "execution_count": 8,
   "metadata": {
    "id": "0swttJBWdpvM",
    "outputId": "2feba7eb-634c-4a95-ac1f-a8a9349c4e77"
   },
   "outputs": [
    {
     "name": "stderr",
     "output_type": "stream",
     "text": [
      "C:\\Users\\Samir\\AppData\\Local\\Temp\\ipykernel_10048\\2164684713.py:6: FutureWarning: The default value of numeric_only in DataFrameGroupBy.sum is deprecated. In a future version, numeric_only will default to False. Either specify numeric_only or select only columns which should be valid for the function.\n",
      "  df_estado = df_estado.groupby('date').sum()[situacao].reset_index()\n"
     ]
    },
    {
     "data": {
      "text/html": [
       "<div>\n",
       "<style scoped>\n",
       "    .dataframe tbody tr th:only-of-type {\n",
       "        vertical-align: middle;\n",
       "    }\n",
       "\n",
       "    .dataframe tbody tr th {\n",
       "        vertical-align: top;\n",
       "    }\n",
       "\n",
       "    .dataframe thead th {\n",
       "        text-align: right;\n",
       "    }\n",
       "</style>\n",
       "<table border=\"1\" class=\"dataframe\">\n",
       "  <thead>\n",
       "    <tr style=\"text-align: right;\">\n",
       "      <th></th>\n",
       "      <th>SP</th>\n",
       "    </tr>\n",
       "  </thead>\n",
       "  <tbody>\n",
       "    <tr>\n",
       "      <th>0</th>\n",
       "      <td>1</td>\n",
       "    </tr>\n",
       "    <tr>\n",
       "      <th>1</th>\n",
       "      <td>1</td>\n",
       "    </tr>\n",
       "    <tr>\n",
       "      <th>2</th>\n",
       "      <td>1</td>\n",
       "    </tr>\n",
       "    <tr>\n",
       "      <th>3</th>\n",
       "      <td>2</td>\n",
       "    </tr>\n",
       "    <tr>\n",
       "      <th>4</th>\n",
       "      <td>2</td>\n",
       "    </tr>\n",
       "    <tr>\n",
       "      <th>...</th>\n",
       "      <td>...</td>\n",
       "    </tr>\n",
       "    <tr>\n",
       "      <th>738</th>\n",
       "      <td>5202983</td>\n",
       "    </tr>\n",
       "    <tr>\n",
       "      <th>739</th>\n",
       "      <td>5211936</td>\n",
       "    </tr>\n",
       "    <tr>\n",
       "      <th>740</th>\n",
       "      <td>5221236</td>\n",
       "    </tr>\n",
       "    <tr>\n",
       "      <th>741</th>\n",
       "      <td>5228413</td>\n",
       "    </tr>\n",
       "    <tr>\n",
       "      <th>742</th>\n",
       "      <td>5232374</td>\n",
       "    </tr>\n",
       "  </tbody>\n",
       "</table>\n",
       "<p>743 rows × 1 columns</p>\n",
       "</div>"
      ],
      "text/plain": [
       "          SP\n",
       "0          1\n",
       "1          1\n",
       "2          1\n",
       "3          2\n",
       "4          2\n",
       "..       ...\n",
       "738  5202983\n",
       "739  5211936\n",
       "740  5221236\n",
       "741  5228413\n",
       "742  5232374\n",
       "\n",
       "[743 rows x 1 columns]"
      ]
     },
     "execution_count": 8,
     "metadata": {},
     "output_type": "execute_result"
    }
   ],
   "source": [
    "#Vamos montar uma função para verificar os estados\n",
    "\n",
    "estado = \"SP\"\n",
    "situacao = \"confirmed\"\n",
    "df_estado = data.loc[data.state==estado, :]\n",
    "df_estado = df_estado.groupby('date').sum()[situacao].reset_index()\n",
    "\n",
    "# Vamos excluir a coluna data mantendo os valores anexados\n",
    "df_estado = df_estado.drop('date', axis=1)\n",
    "\n",
    "# Alterando o nome da coluna pelo nome ESTADOS\n",
    "df_estado.columns = [estado]\n",
    "\n",
    "#Vamos juntas as informações dentro de um dataset(covid) utilizando a função\n",
    "covid = pd.concat([covid, df_estado], ignore_index=False, axis=1)\n",
    "\n",
    "covid"
   ]
  },
  {
   "cell_type": "code",
   "execution_count": 9,
   "metadata": {},
   "outputs": [
    {
     "data": {
      "text/plain": [
       "SP    2.391454e+06\n",
       "dtype: float64"
      ]
     },
     "execution_count": 9,
     "metadata": {},
     "output_type": "execute_result"
    }
   ],
   "source": [
    "#Media mortes por estado\n",
    "covid.mean()"
   ]
  },
  {
   "cell_type": "code",
   "execution_count": 10,
   "metadata": {},
   "outputs": [
    {
     "data": {
      "text/plain": [
       "SP    5232374\n",
       "dtype: int64"
      ]
     },
     "execution_count": 10,
     "metadata": {},
     "output_type": "execute_result"
    }
   ],
   "source": [
    "#Numero Maximo de mortes\n",
    "covid.max()"
   ]
  },
  {
   "cell_type": "code",
   "execution_count": 11,
   "metadata": {},
   "outputs": [
    {
     "data": {
      "text/plain": [
       "SP    1\n",
       "dtype: int64"
      ]
     },
     "execution_count": 11,
     "metadata": {},
     "output_type": "execute_result"
    }
   ],
   "source": [
    "#Numero minimo de mortes por estados\n",
    "covid.min()"
   ]
  },
  {
   "cell_type": "code",
   "execution_count": 12,
   "metadata": {
    "id": "Ytef_RHZdpvN",
    "outputId": "27fe52a6-359d-4999-a3f1-44c9f468118d"
   },
   "outputs": [
    {
     "name": "stderr",
     "output_type": "stream",
     "text": [
      "C:\\Users\\Samir\\AppData\\Local\\Temp\\ipykernel_10048\\230219341.py:5: FutureWarning: The default value of numeric_only in DataFrameGroupBy.sum is deprecated. In a future version, numeric_only will default to False. Either specify numeric_only or select only columns which should be valid for the function.\n",
      "  df_estado = df_estado.groupby('date').sum()[situacao].reset_index()\n"
     ]
    },
    {
     "data": {
      "text/html": [
       "<div>\n",
       "<style scoped>\n",
       "    .dataframe tbody tr th:only-of-type {\n",
       "        vertical-align: middle;\n",
       "    }\n",
       "\n",
       "    .dataframe tbody tr th {\n",
       "        vertical-align: top;\n",
       "    }\n",
       "\n",
       "    .dataframe thead th {\n",
       "        text-align: right;\n",
       "    }\n",
       "</style>\n",
       "<table border=\"1\" class=\"dataframe\">\n",
       "  <thead>\n",
       "    <tr style=\"text-align: right;\">\n",
       "      <th></th>\n",
       "      <th>SP</th>\n",
       "      <th>RJ</th>\n",
       "    </tr>\n",
       "  </thead>\n",
       "  <tbody>\n",
       "    <tr>\n",
       "      <th>0</th>\n",
       "      <td>1</td>\n",
       "      <td>1.0</td>\n",
       "    </tr>\n",
       "    <tr>\n",
       "      <th>1</th>\n",
       "      <td>1</td>\n",
       "      <td>2.0</td>\n",
       "    </tr>\n",
       "    <tr>\n",
       "      <th>2</th>\n",
       "      <td>1</td>\n",
       "      <td>3.0</td>\n",
       "    </tr>\n",
       "    <tr>\n",
       "      <th>3</th>\n",
       "      <td>2</td>\n",
       "      <td>15.0</td>\n",
       "    </tr>\n",
       "    <tr>\n",
       "      <th>4</th>\n",
       "      <td>2</td>\n",
       "      <td>24.0</td>\n",
       "    </tr>\n",
       "    <tr>\n",
       "      <th>...</th>\n",
       "      <td>...</td>\n",
       "      <td>...</td>\n",
       "    </tr>\n",
       "    <tr>\n",
       "      <th>738</th>\n",
       "      <td>5202983</td>\n",
       "      <td>NaN</td>\n",
       "    </tr>\n",
       "    <tr>\n",
       "      <th>739</th>\n",
       "      <td>5211936</td>\n",
       "      <td>NaN</td>\n",
       "    </tr>\n",
       "    <tr>\n",
       "      <th>740</th>\n",
       "      <td>5221236</td>\n",
       "      <td>NaN</td>\n",
       "    </tr>\n",
       "    <tr>\n",
       "      <th>741</th>\n",
       "      <td>5228413</td>\n",
       "      <td>NaN</td>\n",
       "    </tr>\n",
       "    <tr>\n",
       "      <th>742</th>\n",
       "      <td>5232374</td>\n",
       "      <td>NaN</td>\n",
       "    </tr>\n",
       "  </tbody>\n",
       "</table>\n",
       "<p>743 rows × 2 columns</p>\n",
       "</div>"
      ],
      "text/plain": [
       "          SP    RJ\n",
       "0          1   1.0\n",
       "1          1   2.0\n",
       "2          1   3.0\n",
       "3          2  15.0\n",
       "4          2  24.0\n",
       "..       ...   ...\n",
       "738  5202983   NaN\n",
       "739  5211936   NaN\n",
       "740  5221236   NaN\n",
       "741  5228413   NaN\n",
       "742  5232374   NaN\n",
       "\n",
       "[743 rows x 2 columns]"
      ]
     },
     "execution_count": 12,
     "metadata": {},
     "output_type": "execute_result"
    }
   ],
   "source": [
    "#REUTILIZANDO A FUNÇÃO \n",
    "estado = \"RJ\"\n",
    "situacao = \"confirmed\"\n",
    "df_estado = data.loc[data.state==estado, :]\n",
    "df_estado = df_estado.groupby('date').sum()[situacao].reset_index()\n",
    "\n",
    "# Vamos excluir a coluna data mantendo os valores anexados\n",
    "df_estado = df_estado.drop('date', axis=1)\n",
    "\n",
    "# Alterando o nome da coluna pelo nome ESTADOS\n",
    "df_estado.columns = [estado]\n",
    "\n",
    "#Vamos juntas as informações dentro de um dataset(covid) utilizando a função\n",
    "covid = pd.concat([covid, df_estado], ignore_index=False, axis=1)\n",
    "\n",
    "covid\n"
   ]
  },
  {
   "cell_type": "code",
   "execution_count": 13,
   "metadata": {
    "id": "YzyPulv0dpvN",
    "outputId": "31eec8f9-6caa-4236-a0b9-a27e85d169e5"
   },
   "outputs": [
    {
     "data": {
      "text/html": [
       "<div>\n",
       "<style scoped>\n",
       "    .dataframe tbody tr th:only-of-type {\n",
       "        vertical-align: middle;\n",
       "    }\n",
       "\n",
       "    .dataframe tbody tr th {\n",
       "        vertical-align: top;\n",
       "    }\n",
       "\n",
       "    .dataframe thead th {\n",
       "        text-align: right;\n",
       "    }\n",
       "</style>\n",
       "<table border=\"1\" class=\"dataframe\">\n",
       "  <thead>\n",
       "    <tr style=\"text-align: right;\">\n",
       "      <th></th>\n",
       "      <th>SP</th>\n",
       "      <th>RJ</th>\n",
       "    </tr>\n",
       "  </thead>\n",
       "  <tbody>\n",
       "    <tr>\n",
       "      <th>0</th>\n",
       "      <td>1</td>\n",
       "      <td>1.0</td>\n",
       "    </tr>\n",
       "    <tr>\n",
       "      <th>1</th>\n",
       "      <td>1</td>\n",
       "      <td>2.0</td>\n",
       "    </tr>\n",
       "    <tr>\n",
       "      <th>3</th>\n",
       "      <td>2</td>\n",
       "      <td>15.0</td>\n",
       "    </tr>\n",
       "    <tr>\n",
       "      <th>4</th>\n",
       "      <td>2</td>\n",
       "      <td>24.0</td>\n",
       "    </tr>\n",
       "    <tr>\n",
       "      <th>5</th>\n",
       "      <td>2</td>\n",
       "      <td>25.0</td>\n",
       "    </tr>\n",
       "    <tr>\n",
       "      <th>...</th>\n",
       "      <td>...</td>\n",
       "      <td>...</td>\n",
       "    </tr>\n",
       "    <tr>\n",
       "      <th>738</th>\n",
       "      <td>5202983</td>\n",
       "      <td>NaN</td>\n",
       "    </tr>\n",
       "    <tr>\n",
       "      <th>739</th>\n",
       "      <td>5211936</td>\n",
       "      <td>NaN</td>\n",
       "    </tr>\n",
       "    <tr>\n",
       "      <th>740</th>\n",
       "      <td>5221236</td>\n",
       "      <td>NaN</td>\n",
       "    </tr>\n",
       "    <tr>\n",
       "      <th>741</th>\n",
       "      <td>5228413</td>\n",
       "      <td>NaN</td>\n",
       "    </tr>\n",
       "    <tr>\n",
       "      <th>742</th>\n",
       "      <td>5232374</td>\n",
       "      <td>NaN</td>\n",
       "    </tr>\n",
       "  </tbody>\n",
       "</table>\n",
       "<p>742 rows × 2 columns</p>\n",
       "</div>"
      ],
      "text/plain": [
       "          SP    RJ\n",
       "0          1   1.0\n",
       "1          1   2.0\n",
       "3          2  15.0\n",
       "4          2  24.0\n",
       "5          2  25.0\n",
       "..       ...   ...\n",
       "738  5202983   NaN\n",
       "739  5211936   NaN\n",
       "740  5221236   NaN\n",
       "741  5228413   NaN\n",
       "742  5232374   NaN\n",
       "\n",
       "[742 rows x 2 columns]"
      ]
     },
     "execution_count": 13,
     "metadata": {},
     "output_type": "execute_result"
    }
   ],
   "source": [
    "# Drop para corrigir erro apagando as multiplas colunas\n",
    "covid.drop(2)"
   ]
  },
  {
   "cell_type": "code",
   "execution_count": 14,
   "metadata": {
    "id": "HJULHuJldpvO",
    "outputId": "97c9cd73-39f5-4fa0-fe74-f6c50976061c"
   },
   "outputs": [
    {
     "name": "stderr",
     "output_type": "stream",
     "text": [
      "C:\\Users\\Samir\\AppData\\Local\\Temp\\ipykernel_10048\\2769223037.py:4: FutureWarning: The default value of numeric_only in DataFrameGroupBy.sum is deprecated. In a future version, numeric_only will default to False. Either specify numeric_only or select only columns which should be valid for the function.\n",
      "  df_estado = df_estado.groupby('date').sum()[situacao].reset_index()\n"
     ]
    },
    {
     "data": {
      "text/html": [
       "<div>\n",
       "<style scoped>\n",
       "    .dataframe tbody tr th:only-of-type {\n",
       "        vertical-align: middle;\n",
       "    }\n",
       "\n",
       "    .dataframe tbody tr th {\n",
       "        vertical-align: top;\n",
       "    }\n",
       "\n",
       "    .dataframe thead th {\n",
       "        text-align: right;\n",
       "    }\n",
       "</style>\n",
       "<table border=\"1\" class=\"dataframe\">\n",
       "  <thead>\n",
       "    <tr style=\"text-align: right;\">\n",
       "      <th></th>\n",
       "      <th>SP</th>\n",
       "      <th>RJ</th>\n",
       "      <th>MG</th>\n",
       "    </tr>\n",
       "  </thead>\n",
       "  <tbody>\n",
       "    <tr>\n",
       "      <th>0</th>\n",
       "      <td>1.0</td>\n",
       "      <td>1.0</td>\n",
       "      <td>1</td>\n",
       "    </tr>\n",
       "    <tr>\n",
       "      <th>1</th>\n",
       "      <td>1.0</td>\n",
       "      <td>2.0</td>\n",
       "      <td>1</td>\n",
       "    </tr>\n",
       "    <tr>\n",
       "      <th>2</th>\n",
       "      <td>1.0</td>\n",
       "      <td>3.0</td>\n",
       "      <td>1</td>\n",
       "    </tr>\n",
       "    <tr>\n",
       "      <th>3</th>\n",
       "      <td>2.0</td>\n",
       "      <td>15.0</td>\n",
       "      <td>1</td>\n",
       "    </tr>\n",
       "    <tr>\n",
       "      <th>4</th>\n",
       "      <td>2.0</td>\n",
       "      <td>24.0</td>\n",
       "      <td>2</td>\n",
       "    </tr>\n",
       "    <tr>\n",
       "      <th>...</th>\n",
       "      <td>...</td>\n",
       "      <td>...</td>\n",
       "      <td>...</td>\n",
       "    </tr>\n",
       "    <tr>\n",
       "      <th>740</th>\n",
       "      <td>5221236.0</td>\n",
       "      <td>NaN</td>\n",
       "      <td>3306753</td>\n",
       "    </tr>\n",
       "    <tr>\n",
       "      <th>741</th>\n",
       "      <td>5228413.0</td>\n",
       "      <td>NaN</td>\n",
       "      <td>3310675</td>\n",
       "    </tr>\n",
       "    <tr>\n",
       "      <th>742</th>\n",
       "      <td>5232374.0</td>\n",
       "      <td>NaN</td>\n",
       "      <td>3313844</td>\n",
       "    </tr>\n",
       "    <tr>\n",
       "      <th>743</th>\n",
       "      <td>NaN</td>\n",
       "      <td>NaN</td>\n",
       "      <td>3317059</td>\n",
       "    </tr>\n",
       "    <tr>\n",
       "      <th>744</th>\n",
       "      <td>NaN</td>\n",
       "      <td>NaN</td>\n",
       "      <td>3317401</td>\n",
       "    </tr>\n",
       "  </tbody>\n",
       "</table>\n",
       "<p>745 rows × 3 columns</p>\n",
       "</div>"
      ],
      "text/plain": [
       "            SP    RJ       MG\n",
       "0          1.0   1.0        1\n",
       "1          1.0   2.0        1\n",
       "2          1.0   3.0        1\n",
       "3          2.0  15.0        1\n",
       "4          2.0  24.0        2\n",
       "..         ...   ...      ...\n",
       "740  5221236.0   NaN  3306753\n",
       "741  5228413.0   NaN  3310675\n",
       "742  5232374.0   NaN  3313844\n",
       "743        NaN   NaN  3317059\n",
       "744        NaN   NaN  3317401\n",
       "\n",
       "[745 rows x 3 columns]"
      ]
     },
     "execution_count": 14,
     "metadata": {},
     "output_type": "execute_result"
    }
   ],
   "source": [
    "estado = \"MG\"\n",
    "situacao = \"confirmed\"\n",
    "df_estado = data.loc[data.state==estado, :]\n",
    "df_estado = df_estado.groupby('date').sum()[situacao].reset_index()\n",
    "\n",
    "# Vamos excluir a coluna data mantendo os valores anexados\n",
    "df_estado = df_estado.drop('date', axis=1)\n",
    "\n",
    "# Alterando o nome da coluna pelo nome ESTADOS\n",
    "df_estado.columns = [estado]\n",
    "\n",
    "#Vamos juntas as informações dentro de um dataset(covid) utilizando a função\n",
    "covid = pd.concat([covid, df_estado], ignore_index=False, axis=1)\n",
    "\n",
    "covid\n"
   ]
  },
  {
   "cell_type": "code",
   "execution_count": 15,
   "metadata": {
    "id": "fgs9jLvkdpvO"
   },
   "outputs": [],
   "source": [
    "# Vamos montar uma função para trazer todos so dados de ESTADOS\n",
    "def desde1caso(data, estados, dias, situacao):\n",
    "    \n",
    "    covid = pd.DataFrame()\n",
    "    \n",
    "    for estado in estados:\n",
    "        try:\n",
    "            df_estado = data.loc[data.state==estado, :]\n",
    "            df_estado = df_estado.groupby('date').sum()[situacao].reset_index()\n",
    "    \n",
    "            df_estado = df_estado.drop('date', axis=1)\n",
    "            df_estado.columns = [estado]\n",
    "            covid = pd.concat([covid, df_estado], ignore_index=False, axis=1)\n",
    "        except:\n",
    "            print(\"is not \" + situacao + \"in \" + estado)\n",
    "    \n",
    "\n",
    "    covid.columns = estados\n",
    "    \n",
    "    return covid.head(dias)"
   ]
  },
  {
   "cell_type": "code",
   "execution_count": 16,
   "metadata": {
    "id": "Bozp4177dpvP"
   },
   "outputs": [
    {
     "name": "stderr",
     "output_type": "stream",
     "text": [
      "C:\\Users\\Samir\\AppData\\Local\\Temp\\ipykernel_10048\\2057455989.py:9: FutureWarning: The default value of numeric_only in DataFrameGroupBy.sum is deprecated. In a future version, numeric_only will default to False. Either specify numeric_only or select only columns which should be valid for the function.\n",
      "  df_estado = df_estado.groupby('date').sum()[situacao].reset_index()\n",
      "C:\\Users\\Samir\\AppData\\Local\\Temp\\ipykernel_10048\\2057455989.py:9: FutureWarning: The default value of numeric_only in DataFrameGroupBy.sum is deprecated. In a future version, numeric_only will default to False. Either specify numeric_only or select only columns which should be valid for the function.\n",
      "  df_estado = df_estado.groupby('date').sum()[situacao].reset_index()\n",
      "C:\\Users\\Samir\\AppData\\Local\\Temp\\ipykernel_10048\\2057455989.py:9: FutureWarning: The default value of numeric_only in DataFrameGroupBy.sum is deprecated. In a future version, numeric_only will default to False. Either specify numeric_only or select only columns which should be valid for the function.\n",
      "  df_estado = df_estado.groupby('date').sum()[situacao].reset_index()\n",
      "C:\\Users\\Samir\\AppData\\Local\\Temp\\ipykernel_10048\\2057455989.py:9: FutureWarning: The default value of numeric_only in DataFrameGroupBy.sum is deprecated. In a future version, numeric_only will default to False. Either specify numeric_only or select only columns which should be valid for the function.\n",
      "  df_estado = df_estado.groupby('date').sum()[situacao].reset_index()\n",
      "C:\\Users\\Samir\\AppData\\Local\\Temp\\ipykernel_10048\\2057455989.py:9: FutureWarning: The default value of numeric_only in DataFrameGroupBy.sum is deprecated. In a future version, numeric_only will default to False. Either specify numeric_only or select only columns which should be valid for the function.\n",
      "  df_estado = df_estado.groupby('date').sum()[situacao].reset_index()\n"
     ]
    }
   ],
   "source": [
    "df_estados = desde1caso(data, ['SP', 'RJ', 'AM', 'MG', 'BH'], 345, 'confirmed')"
   ]
  },
  {
   "cell_type": "code",
   "execution_count": 17,
   "metadata": {
    "id": "v1Qpu_TzdpvP",
    "outputId": "0d51c783-71d6-44d8-9e92-8c650a823330"
   },
   "outputs": [
    {
     "data": {
      "text/plain": [
       "<Axes: >"
      ]
     },
     "execution_count": 17,
     "metadata": {},
     "output_type": "execute_result"
    },
    {
     "data": {
      "image/png": "[encoded data removed]",
      "text/plain": [
       "<Figure size 640x480 with 1 Axes>"
      ]
     },
     "metadata": {},
     "output_type": "display_data"
    }
   ],
   "source": [
    "df_estados.plot()"
   ]
  },
  {
   "cell_type": "markdown",
   "metadata": {
    "id": "p75C1vQPdpvQ"
   },
   "source": [
    "# VERIFICANDO A CORRELAÇÃO ENTRE CASOS E MORTES UNSAM COEFICIENTE DE PEAESON"
   ]
  },
  {
   "cell_type": "code",
   "execution_count": 18,
   "metadata": {
    "id": "Xi19qM5tdpvQ"
   },
   "outputs": [],
   "source": [
    "df_corr = pd.DataFrame()"
   ]
  },
  {
   "cell_type": "code",
   "execution_count": 19,
   "metadata": {
    "id": "XW5AZUGhdpvR"
   },
   "outputs": [
    {
     "name": "stderr",
     "output_type": "stream",
     "text": [
      "C:\\Users\\Samir\\AppData\\Local\\Temp\\ipykernel_10048\\2057455989.py:9: FutureWarning: The default value of numeric_only in DataFrameGroupBy.sum is deprecated. In a future version, numeric_only will default to False. Either specify numeric_only or select only columns which should be valid for the function.\n",
      "  df_estado = df_estado.groupby('date').sum()[situacao].reset_index()\n",
      "C:\\Users\\Samir\\AppData\\Local\\Temp\\ipykernel_10048\\2057455989.py:9: FutureWarning: The default value of numeric_only in DataFrameGroupBy.sum is deprecated. In a future version, numeric_only will default to False. Either specify numeric_only or select only columns which should be valid for the function.\n",
      "  df_estado = df_estado.groupby('date').sum()[situacao].reset_index()\n"
     ]
    }
   ],
   "source": [
    "sp_confirmed = desde1caso(data, ['SP'], 345, 'confirmed')\n",
    "sp_deaths = desde1caso(data, ['SP'], 345, 'deaths')"
   ]
  },
  {
   "cell_type": "code",
   "execution_count": 20,
   "metadata": {
    "id": "KIA6WYzndpvR"
   },
   "outputs": [],
   "source": [
    "df_corr = pd.concat([df_corr, sp_confirmed, sp_deaths], ignore_index=True, axis=1)\n",
    "df_corr.columns = ['confirmed', 'deaths']"
   ]
  },
  {
   "cell_type": "code",
   "execution_count": 21,
   "metadata": {
    "id": "F4BWw1MBdpvT",
    "outputId": "d6e127b1-8174-44f2-83dd-f666dcdbcd47"
   },
   "outputs": [
    {
     "data": {
      "text/html": [
       "<div>\n",
       "<style scoped>\n",
       "    .dataframe tbody tr th:only-of-type {\n",
       "        vertical-align: middle;\n",
       "    }\n",
       "\n",
       "    .dataframe tbody tr th {\n",
       "        vertical-align: top;\n",
       "    }\n",
       "\n",
       "    .dataframe thead th {\n",
       "        text-align: right;\n",
       "    }\n",
       "</style>\n",
       "<table border=\"1\" class=\"dataframe\">\n",
       "  <thead>\n",
       "    <tr style=\"text-align: right;\">\n",
       "      <th></th>\n",
       "      <th>confirmed</th>\n",
       "      <th>deaths</th>\n",
       "    </tr>\n",
       "  </thead>\n",
       "  <tbody>\n",
       "    <tr>\n",
       "      <th>0</th>\n",
       "      <td>1</td>\n",
       "      <td>0</td>\n",
       "    </tr>\n",
       "    <tr>\n",
       "      <th>1</th>\n",
       "      <td>1</td>\n",
       "      <td>0</td>\n",
       "    </tr>\n",
       "    <tr>\n",
       "      <th>2</th>\n",
       "      <td>1</td>\n",
       "      <td>0</td>\n",
       "    </tr>\n",
       "    <tr>\n",
       "      <th>3</th>\n",
       "      <td>2</td>\n",
       "      <td>0</td>\n",
       "    </tr>\n",
       "    <tr>\n",
       "      <th>4</th>\n",
       "      <td>2</td>\n",
       "      <td>0</td>\n",
       "    </tr>\n",
       "    <tr>\n",
       "      <th>...</th>\n",
       "      <td>...</td>\n",
       "      <td>...</td>\n",
       "    </tr>\n",
       "    <tr>\n",
       "      <th>340</th>\n",
       "      <td>1845086</td>\n",
       "      <td>54545</td>\n",
       "    </tr>\n",
       "    <tr>\n",
       "      <th>341</th>\n",
       "      <td>1849334</td>\n",
       "      <td>54614</td>\n",
       "    </tr>\n",
       "    <tr>\n",
       "      <th>342</th>\n",
       "      <td>1851776</td>\n",
       "      <td>54663</td>\n",
       "    </tr>\n",
       "    <tr>\n",
       "      <th>343</th>\n",
       "      <td>1864977</td>\n",
       "      <td>55087</td>\n",
       "    </tr>\n",
       "    <tr>\n",
       "      <th>344</th>\n",
       "      <td>1878802</td>\n",
       "      <td>55419</td>\n",
       "    </tr>\n",
       "  </tbody>\n",
       "</table>\n",
       "<p>345 rows × 2 columns</p>\n",
       "</div>"
      ],
      "text/plain": [
       "     confirmed  deaths\n",
       "0            1       0\n",
       "1            1       0\n",
       "2            1       0\n",
       "3            2       0\n",
       "4            2       0\n",
       "..         ...     ...\n",
       "340    1845086   54545\n",
       "341    1849334   54614\n",
       "342    1851776   54663\n",
       "343    1864977   55087\n",
       "344    1878802   55419\n",
       "\n",
       "[345 rows x 2 columns]"
      ]
     },
     "execution_count": 21,
     "metadata": {},
     "output_type": "execute_result"
    }
   ],
   "source": [
    "df_corr"
   ]
  },
  {
   "cell_type": "code",
   "execution_count": 22,
   "metadata": {
    "id": "DxnC0l0tdpvU",
    "outputId": "abea10ea-df8d-4dd7-c9d0-540add1efd61"
   },
   "outputs": [
    {
     "data": {
      "text/plain": [
       "<Axes: >"
      ]
     },
     "execution_count": 22,
     "metadata": {},
     "output_type": "execute_result"
    },
    {
     "data": {
      "image/png": "[encoded data removed]",
      "text/plain": [
       "<Figure size 640x480 with 1 Axes>"
      ]
     },
     "metadata": {},
     "output_type": "display_data"
    }
   ],
   "source": [
    "df_corr.plot()"
   ]
  },
  {
   "cell_type": "code",
   "execution_count": 23,
   "metadata": {
    "id": "caJY623BdpvU",
    "outputId": "5315d31a-b3a6-40de-c88f-eb0932948c5a"
   },
   "outputs": [
    {
     "data": {
      "text/html": [
       "<div>\n",
       "<style scoped>\n",
       "    .dataframe tbody tr th:only-of-type {\n",
       "        vertical-align: middle;\n",
       "    }\n",
       "\n",
       "    .dataframe tbody tr th {\n",
       "        vertical-align: top;\n",
       "    }\n",
       "\n",
       "    .dataframe thead th {\n",
       "        text-align: right;\n",
       "    }\n",
       "</style>\n",
       "<table border=\"1\" class=\"dataframe\">\n",
       "  <thead>\n",
       "    <tr style=\"text-align: right;\">\n",
       "      <th></th>\n",
       "      <th>confirmed</th>\n",
       "      <th>deaths</th>\n",
       "    </tr>\n",
       "  </thead>\n",
       "  <tbody>\n",
       "    <tr>\n",
       "      <th>confirmed</th>\n",
       "      <td>1.000000</td>\n",
       "      <td>0.999918</td>\n",
       "    </tr>\n",
       "    <tr>\n",
       "      <th>deaths</th>\n",
       "      <td>0.999918</td>\n",
       "      <td>1.000000</td>\n",
       "    </tr>\n",
       "  </tbody>\n",
       "</table>\n",
       "</div>"
      ],
      "text/plain": [
       "           confirmed    deaths\n",
       "confirmed   1.000000  0.999918\n",
       "deaths      0.999918  1.000000"
      ]
     },
     "execution_count": 23,
     "metadata": {},
     "output_type": "execute_result"
    }
   ],
   "source": [
    "df_corr.corr(method=\"spearman\")"
   ]
  },
  {
   "cell_type": "code",
   "execution_count": 24,
   "metadata": {
    "id": "3a49OEzndpvV"
   },
   "outputs": [],
   "source": [
    "df_corr = pd.DataFrame()"
   ]
  },
  {
   "cell_type": "code",
   "execution_count": 25,
   "metadata": {
    "id": "GAVeLSO0dpvV"
   },
   "outputs": [
    {
     "name": "stderr",
     "output_type": "stream",
     "text": [
      "C:\\Users\\Samir\\AppData\\Local\\Temp\\ipykernel_10048\\2057455989.py:9: FutureWarning: The default value of numeric_only in DataFrameGroupBy.sum is deprecated. In a future version, numeric_only will default to False. Either specify numeric_only or select only columns which should be valid for the function.\n",
      "  df_estado = df_estado.groupby('date').sum()[situacao].reset_index()\n",
      "C:\\Users\\Samir\\AppData\\Local\\Temp\\ipykernel_10048\\2057455989.py:9: FutureWarning: The default value of numeric_only in DataFrameGroupBy.sum is deprecated. In a future version, numeric_only will default to False. Either specify numeric_only or select only columns which should be valid for the function.\n",
      "  df_estado = df_estado.groupby('date').sum()[situacao].reset_index()\n"
     ]
    }
   ],
   "source": [
    "rj_confirmed = desde1caso(data, ['RJ'], 345, 'confirmed')\n",
    "rj_deaths = desde1caso(data, ['RJ'], 345, 'deaths')"
   ]
  },
  {
   "cell_type": "code",
   "execution_count": 26,
   "metadata": {
    "id": "TQRjptbTdpvW",
    "outputId": "01f9ad60-9edf-4838-ae1b-440f7b64e5e7"
   },
   "outputs": [
    {
     "data": {
      "text/html": [
       "<div>\n",
       "<style scoped>\n",
       "    .dataframe tbody tr th:only-of-type {\n",
       "        vertical-align: middle;\n",
       "    }\n",
       "\n",
       "    .dataframe tbody tr th {\n",
       "        vertical-align: top;\n",
       "    }\n",
       "\n",
       "    .dataframe thead th {\n",
       "        text-align: right;\n",
       "    }\n",
       "</style>\n",
       "<table border=\"1\" class=\"dataframe\">\n",
       "  <thead>\n",
       "    <tr style=\"text-align: right;\">\n",
       "      <th></th>\n",
       "      <th>confirmed</th>\n",
       "      <th>deaths</th>\n",
       "    </tr>\n",
       "  </thead>\n",
       "  <tbody>\n",
       "    <tr>\n",
       "      <th>0</th>\n",
       "      <td>1</td>\n",
       "      <td>0</td>\n",
       "    </tr>\n",
       "    <tr>\n",
       "      <th>1</th>\n",
       "      <td>1</td>\n",
       "      <td>0</td>\n",
       "    </tr>\n",
       "    <tr>\n",
       "      <th>2</th>\n",
       "      <td>1</td>\n",
       "      <td>0</td>\n",
       "    </tr>\n",
       "    <tr>\n",
       "      <th>3</th>\n",
       "      <td>2</td>\n",
       "      <td>0</td>\n",
       "    </tr>\n",
       "    <tr>\n",
       "      <th>4</th>\n",
       "      <td>2</td>\n",
       "      <td>0</td>\n",
       "    </tr>\n",
       "    <tr>\n",
       "      <th>...</th>\n",
       "      <td>...</td>\n",
       "      <td>...</td>\n",
       "    </tr>\n",
       "    <tr>\n",
       "      <th>340</th>\n",
       "      <td>1845086</td>\n",
       "      <td>54545</td>\n",
       "    </tr>\n",
       "    <tr>\n",
       "      <th>341</th>\n",
       "      <td>1849334</td>\n",
       "      <td>54614</td>\n",
       "    </tr>\n",
       "    <tr>\n",
       "      <th>342</th>\n",
       "      <td>1851776</td>\n",
       "      <td>54663</td>\n",
       "    </tr>\n",
       "    <tr>\n",
       "      <th>343</th>\n",
       "      <td>1864977</td>\n",
       "      <td>55087</td>\n",
       "    </tr>\n",
       "    <tr>\n",
       "      <th>344</th>\n",
       "      <td>1878802</td>\n",
       "      <td>55419</td>\n",
       "    </tr>\n",
       "  </tbody>\n",
       "</table>\n",
       "<p>345 rows × 2 columns</p>\n",
       "</div>"
      ],
      "text/plain": [
       "     confirmed  deaths\n",
       "0            1       0\n",
       "1            1       0\n",
       "2            1       0\n",
       "3            2       0\n",
       "4            2       0\n",
       "..         ...     ...\n",
       "340    1845086   54545\n",
       "341    1849334   54614\n",
       "342    1851776   54663\n",
       "343    1864977   55087\n",
       "344    1878802   55419\n",
       "\n",
       "[345 rows x 2 columns]"
      ]
     },
     "execution_count": 26,
     "metadata": {},
     "output_type": "execute_result"
    }
   ],
   "source": [
    "df_corr = pd.concat([df_corr, sp_confirmed, sp_deaths], ignore_index=True, axis=1)\n",
    "df_corr.columns = ['confirmed', 'deaths']\n",
    "df_corr"
   ]
  },
  {
   "cell_type": "code",
   "execution_count": 27,
   "metadata": {
    "id": "cxLVvAVUdpvW",
    "outputId": "6f852376-58ff-424c-80b5-23ee829624f5"
   },
   "outputs": [
    {
     "data": {
      "text/plain": [
       "<Axes: >"
      ]
     },
     "execution_count": 27,
     "metadata": {},
     "output_type": "execute_result"
    },
    {
     "data": {
      "image/png": "[encoded data removed]",
      "text/plain": [
       "<Figure size 640x480 with 1 Axes>"
      ]
     },
     "metadata": {},
     "output_type": "display_data"
    }
   ],
   "source": [
    "df_corr.plot()"
   ]
  },
  {
   "cell_type": "code",
   "execution_count": 28,
   "metadata": {
    "id": "9Gp0DMUOdpvX",
    "outputId": "023ade14-e02b-440c-f8f0-be7405006ada"
   },
   "outputs": [
    {
     "data": {
      "text/html": [
       "<div>\n",
       "<style scoped>\n",
       "    .dataframe tbody tr th:only-of-type {\n",
       "        vertical-align: middle;\n",
       "    }\n",
       "\n",
       "    .dataframe tbody tr th {\n",
       "        vertical-align: top;\n",
       "    }\n",
       "\n",
       "    .dataframe thead th {\n",
       "        text-align: right;\n",
       "    }\n",
       "</style>\n",
       "<table border=\"1\" class=\"dataframe\">\n",
       "  <thead>\n",
       "    <tr style=\"text-align: right;\">\n",
       "      <th></th>\n",
       "      <th>confirmed</th>\n",
       "      <th>deaths</th>\n",
       "    </tr>\n",
       "  </thead>\n",
       "  <tbody>\n",
       "    <tr>\n",
       "      <th>confirmed</th>\n",
       "      <td>1.000000</td>\n",
       "      <td>0.999918</td>\n",
       "    </tr>\n",
       "    <tr>\n",
       "      <th>deaths</th>\n",
       "      <td>0.999918</td>\n",
       "      <td>1.000000</td>\n",
       "    </tr>\n",
       "  </tbody>\n",
       "</table>\n",
       "</div>"
      ],
      "text/plain": [
       "           confirmed    deaths\n",
       "confirmed   1.000000  0.999918\n",
       "deaths      0.999918  1.000000"
      ]
     },
     "execution_count": 28,
     "metadata": {},
     "output_type": "execute_result"
    }
   ],
   "source": [
    "df_corr.corr(method=\"spearman\")"
   ]
  },
  {
   "cell_type": "code",
   "execution_count": null,
   "metadata": {
    "id": "fP2SCMN5dpvX"
   },
   "outputs": [],
   "source": []
  }
 ],
 "metadata": {
  "colab": {
   "name": "Analise_Covid.ipynb",
   "provenance": []
  },
  "kernelspec": {
   "display_name": "Python 3 (ipykernel)",
   "language": "python",
   "name": "python3"
  },
  "language_info": {
   "codemirror_mode": {
    "name": "ipython",
    "version": 3
   },
   "file_extension": ".py",
   "mimetype": "text/x-python",
   "name": "python",
   "nbconvert_exporter": "python",
   "pygments_lexer": "ipython3",
   "version": "3.11.4"
  }
 },
 "nbformat": 4,
 "nbformat_minor": 1
}
